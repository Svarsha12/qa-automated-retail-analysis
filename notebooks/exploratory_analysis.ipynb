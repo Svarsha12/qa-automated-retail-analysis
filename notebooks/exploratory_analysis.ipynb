{
 "cells": [
  {
   "cell_type": "code",
   "execution_count": 1,
   "metadata": {},
   "outputs": [
    {
     "name": "stdout",
     "output_type": "stream",
     "text": [
      "Current directory: /Users/varshasharma/Desktop/qa-automated-retail-analysis/notebooks\n"
     ]
    }
   ],
   "source": [
    "import os\n",
    "print(\"Current directory:\", os.getcwd())"
   ]
  },
  {
   "cell_type": "code",
   "execution_count": 2,
   "metadata": {},
   "outputs": [],
   "source": [
    "os.chdir('..')  # move up one level to project root"
   ]
  },
  {
   "cell_type": "code",
   "execution_count": 3,
   "metadata": {},
   "outputs": [
    {
     "name": "stdout",
     "output_type": "stream",
     "text": [
      "            Order ID Order Date Customer ID\n",
      "0     CA-2016-152156 2016-08-11    CG-12520\n",
      "1     CA-2016-152156 2016-08-11    CG-12520\n",
      "3     US-2015-108966 2015-11-10    SO-20335\n",
      "4     US-2015-108966 2015-11-10    SO-20335\n",
      "5     CA-2014-115812 2014-09-06    BH-11710\n",
      "...              ...        ...         ...\n",
      "9987  CA-2017-163629 2017-11-17    RA-19885\n",
      "9988  CA-2017-163629 2017-11-17    RA-19885\n",
      "9990  CA-2017-121258 2017-02-26    DB-13060\n",
      "9991  CA-2017-121258 2017-02-26    DB-13060\n",
      "9992  CA-2017-121258 2017-02-26    DB-13060\n",
      "\n",
      "[7456 rows x 3 columns]\n"
     ]
    },
    {
     "name": "stderr",
     "output_type": "stream",
     "text": [
      "/var/folders/33/s1v3z17x5vs0mgg845k9r16r0000gp/T/ipykernel_80324/2324410516.py:3: UserWarning: Could not infer format, so each element will be parsed individually, falling back to `dateutil`. To ensure parsing is consistent and as-expected, please specify a format.\n",
      "  df = pd.read_csv('data/retail_order.csv', parse_dates=['Order Date', 'Ship Date'])\n",
      "/var/folders/33/s1v3z17x5vs0mgg845k9r16r0000gp/T/ipykernel_80324/2324410516.py:3: UserWarning: Could not infer format, so each element will be parsed individually, falling back to `dateutil`. To ensure parsing is consistent and as-expected, please specify a format.\n",
      "  df = pd.read_csv('data/retail_order.csv', parse_dates=['Order Date', 'Ship Date'])\n"
     ]
    }
   ],
   "source": [
    "import pandas as pd\n",
    "\n",
    "df = pd.read_csv('data/retail_order.csv', parse_dates=['Order Date', 'Ship Date'])\n",
    "\n",
    "# Find duplicates Order IDs\n",
    "\n",
    "duplicates = df[df.duplicated(subset='Order ID', keep=False)]\n",
    "print(duplicates[['Order ID', 'Order Date', 'Customer ID']])"
   ]
  },
  {
   "cell_type": "code",
   "execution_count": 4,
   "metadata": {},
   "outputs": [
    {
     "data": {
      "text/html": [
       "<div>\n",
       "<style scoped>\n",
       "    .dataframe tbody tr th:only-of-type {\n",
       "        vertical-align: middle;\n",
       "    }\n",
       "\n",
       "    .dataframe tbody tr th {\n",
       "        vertical-align: top;\n",
       "    }\n",
       "\n",
       "    .dataframe thead th {\n",
       "        text-align: right;\n",
       "    }\n",
       "</style>\n",
       "<table border=\"1\" class=\"dataframe\">\n",
       "  <thead>\n",
       "    <tr style=\"text-align: right;\">\n",
       "      <th></th>\n",
       "      <th>Order ID</th>\n",
       "      <th>Customer ID</th>\n",
       "      <th>Product ID</th>\n",
       "      <th>Quantity</th>\n",
       "      <th>Sales</th>\n",
       "      <th>Profit</th>\n",
       "    </tr>\n",
       "  </thead>\n",
       "  <tbody>\n",
       "    <tr>\n",
       "      <th>0</th>\n",
       "      <td>CA-2016-152156</td>\n",
       "      <td>CG-12520</td>\n",
       "      <td>FUR-BO-10001798</td>\n",
       "      <td>2</td>\n",
       "      <td>261.96</td>\n",
       "      <td>41.91</td>\n",
       "    </tr>\n",
       "    <tr>\n",
       "      <th>1</th>\n",
       "      <td>CA-2016-152156</td>\n",
       "      <td>CG-12520</td>\n",
       "      <td>FUR-CH-10000454</td>\n",
       "      <td>3</td>\n",
       "      <td>731.94</td>\n",
       "      <td>219.58</td>\n",
       "    </tr>\n",
       "    <tr>\n",
       "      <th>3</th>\n",
       "      <td>US-2015-108966</td>\n",
       "      <td>SO-20335</td>\n",
       "      <td>FUR-TA-10000577</td>\n",
       "      <td>5</td>\n",
       "      <td>957.58</td>\n",
       "      <td>-383.03</td>\n",
       "    </tr>\n",
       "    <tr>\n",
       "      <th>4</th>\n",
       "      <td>US-2015-108966</td>\n",
       "      <td>SO-20335</td>\n",
       "      <td>OFF-ST-10000760</td>\n",
       "      <td>2</td>\n",
       "      <td>22.37</td>\n",
       "      <td>2.52</td>\n",
       "    </tr>\n",
       "    <tr>\n",
       "      <th>5</th>\n",
       "      <td>CA-2014-115812</td>\n",
       "      <td>BH-11710</td>\n",
       "      <td>FUR-FU-10001487</td>\n",
       "      <td>7</td>\n",
       "      <td>48.86</td>\n",
       "      <td>14.17</td>\n",
       "    </tr>\n",
       "    <tr>\n",
       "      <th>...</th>\n",
       "      <td>...</td>\n",
       "      <td>...</td>\n",
       "      <td>...</td>\n",
       "      <td>...</td>\n",
       "      <td>...</td>\n",
       "      <td>...</td>\n",
       "    </tr>\n",
       "    <tr>\n",
       "      <th>9987</th>\n",
       "      <td>CA-2017-163629</td>\n",
       "      <td>RA-19885</td>\n",
       "      <td>TEC-AC-10001539</td>\n",
       "      <td>1</td>\n",
       "      <td>79.99</td>\n",
       "      <td>28.80</td>\n",
       "    </tr>\n",
       "    <tr>\n",
       "      <th>9988</th>\n",
       "      <td>CA-2017-163629</td>\n",
       "      <td>RA-19885</td>\n",
       "      <td>TEC-PH-10004006</td>\n",
       "      <td>5</td>\n",
       "      <td>206.10</td>\n",
       "      <td>55.65</td>\n",
       "    </tr>\n",
       "    <tr>\n",
       "      <th>9990</th>\n",
       "      <td>CA-2017-121258</td>\n",
       "      <td>DB-13060</td>\n",
       "      <td>FUR-FU-10000747</td>\n",
       "      <td>2</td>\n",
       "      <td>91.96</td>\n",
       "      <td>15.63</td>\n",
       "    </tr>\n",
       "    <tr>\n",
       "      <th>9991</th>\n",
       "      <td>CA-2017-121258</td>\n",
       "      <td>DB-13060</td>\n",
       "      <td>TEC-PH-10003645</td>\n",
       "      <td>2</td>\n",
       "      <td>258.58</td>\n",
       "      <td>19.39</td>\n",
       "    </tr>\n",
       "    <tr>\n",
       "      <th>9992</th>\n",
       "      <td>CA-2017-121258</td>\n",
       "      <td>DB-13060</td>\n",
       "      <td>OFF-PA-10004041</td>\n",
       "      <td>4</td>\n",
       "      <td>29.60</td>\n",
       "      <td>13.32</td>\n",
       "    </tr>\n",
       "  </tbody>\n",
       "</table>\n",
       "<p>7456 rows × 6 columns</p>\n",
       "</div>"
      ],
      "text/plain": [
       "            Order ID Customer ID       Product ID  Quantity   Sales  Profit\n",
       "0     CA-2016-152156    CG-12520  FUR-BO-10001798         2  261.96   41.91\n",
       "1     CA-2016-152156    CG-12520  FUR-CH-10000454         3  731.94  219.58\n",
       "3     US-2015-108966    SO-20335  FUR-TA-10000577         5  957.58 -383.03\n",
       "4     US-2015-108966    SO-20335  OFF-ST-10000760         2   22.37    2.52\n",
       "5     CA-2014-115812    BH-11710  FUR-FU-10001487         7   48.86   14.17\n",
       "...              ...         ...              ...       ...     ...     ...\n",
       "9987  CA-2017-163629    RA-19885  TEC-AC-10001539         1   79.99   28.80\n",
       "9988  CA-2017-163629    RA-19885  TEC-PH-10004006         5  206.10   55.65\n",
       "9990  CA-2017-121258    DB-13060  FUR-FU-10000747         2   91.96   15.63\n",
       "9991  CA-2017-121258    DB-13060  TEC-PH-10003645         2  258.58   19.39\n",
       "9992  CA-2017-121258    DB-13060  OFF-PA-10004041         4   29.60   13.32\n",
       "\n",
       "[7456 rows x 6 columns]"
      ]
     },
     "execution_count": 4,
     "metadata": {},
     "output_type": "execute_result"
    }
   ],
   "source": [
    "duplicates[['Order ID', 'Customer ID', 'Product ID', 'Quantity', 'Sales', 'Profit']]\n"
   ]
  },
  {
   "cell_type": "code",
   "execution_count": 5,
   "metadata": {},
   "outputs": [],
   "source": [
    "duplicates.to_csv('reports/duplicate_order_ids.csv', index=False)\n"
   ]
  },
  {
   "cell_type": "code",
   "execution_count": 6,
   "metadata": {},
   "outputs": [
    {
     "name": "stdout",
     "output_type": "stream",
     "text": [
      "sys.path[0] = /Users/varshasharma/Desktop/qa-automated-retail-analysis/src\n"
     ]
    }
   ],
   "source": [
    "\n",
    "import sys\n",
    "\n",
    "# Force the absolute path to your actual src folder\n",
    "sys.path.insert(0, '/Users/varshasharma/Desktop/qa-automated-retail-analysis/src')\n",
    "\n",
    "print(\"sys.path[0] =\", sys.path[0])\n",
    "\n",
    "\n",
    "\n"
   ]
  },
  {
   "cell_type": "code",
   "execution_count": 7,
   "metadata": {},
   "outputs": [
    {
     "data": {
      "image/png": "[encoded data removed]",
      "text/plain": [
       "<Figure size 800x500 with 1 Axes>"
      ]
     },
     "metadata": {},
     "output_type": "display_data"
    }
   ],
   "source": [
    "from visualize import plot_duplicate_orders_by_region\n",
    "\n",
    "plot_duplicate_orders_by_region(duplicates)\n"
   ]
  },
  {
   "cell_type": "code",
   "execution_count": 8,
   "metadata": {},
   "outputs": [
    {
     "name": "stdout",
     "output_type": "stream",
     "text": [
      "Plot saved to ./reports/duplicate_orders_by_region.png\n"
     ]
    },
    {
     "data": {
      "image/png": "[encoded data removed]",
      "text/plain": [
       "<Figure size 800x500 with 1 Axes>"
      ]
     },
     "metadata": {},
     "output_type": "display_data"
    }
   ],
   "source": [
    "plot_duplicate_orders_by_region(duplicates, save_path='./reports/duplicate_orders_by_region.png')\n"
   ]
  },
  {
   "cell_type": "code",
   "execution_count": 9,
   "metadata": {},
   "outputs": [],
   "source": [
    "# This works inside a notebook or script\n",
    "duplicates.to_csv('./reports/duplicate_orders_log.csv', index=False)\n"
   ]
  },
  {
   "cell_type": "markdown",
   "metadata": {},
   "source": [
    "## logging the output in the reports/log file"
   ]
  },
  {
   "cell_type": "code",
   "execution_count": 10,
   "metadata": {},
   "outputs": [],
   "source": [
    "from validation import validate_no_nulls\n",
    "\n",
    "nulls_df = validate_no_nulls(df)\n",
    "nulls_df.to_csv('reports/null_issues_log.csv', index=False)\n",
    "\n"
   ]
  },
  {
   "cell_type": "code",
   "execution_count": 11,
   "metadata": {},
   "outputs": [],
   "source": [
    "invalid_ship_dates = df[df['Ship Date'] < df['Order Date']]\n",
    "invalid_ship_dates.to_csv('reports/ship_date_issues_log.csv', index=False)\n"
   ]
  },
  {
   "cell_type": "markdown",
   "metadata": {},
   "source": [
    "## Exported Clean data to tableau folder"
   ]
  },
  {
   "cell_type": "code",
   "execution_count": 12,
   "metadata": {},
   "outputs": [],
   "source": [
    "from validation import CRITICAL_COLUMNS\n",
    "\n",
    "clean_df = df[\n",
    "    (df['Ship Date'] >= df['Order Date']) &\n",
    "    df['Order ID'].duplicated(keep=False) == False\n",
    "]\n",
    "\n",
    "clean_df = clean_df.dropna(subset=CRITICAL_COLUMNS)\n",
    "clean_df.to_csv('tableau/clean_orders.csv', index=False)\n"
   ]
  },
  {
   "cell_type": "code",
   "execution_count": 13,
   "metadata": {},
   "outputs": [
    {
     "data": {
      "text/plain": [
       "Index(['Row ID', 'Order ID', 'Order Date', 'Ship Date', 'Ship Mode',\n",
       "       'Customer ID', 'Customer Name', 'Segment', 'Country', 'City', 'State',\n",
       "       'Postal Code', 'Region', 'Retail Sales People', 'Product ID',\n",
       "       'Category', 'Sub-Category', 'Product Name', 'Returned', 'Sales',\n",
       "       'Quantity', 'Discount', 'Profit'],\n",
       "      dtype='object')"
      ]
     },
     "execution_count": 13,
     "metadata": {},
     "output_type": "execute_result"
    }
   ],
   "source": [
    "clean_df.columns"
   ]
  },
  {
   "cell_type": "code",
   "execution_count": 14,
   "metadata": {},
   "outputs": [
    {
     "name": "stdout",
     "output_type": "stream",
     "text": [
      "QA Summary saved to tableau/qa_summary.csv\n"
     ]
    },
    {
     "name": "stderr",
     "output_type": "stream",
     "text": [
      "/Users/varshasharma/Desktop/qa-automated-retail-analysis/src/data_loader.py:16: UserWarning: Could not infer format, so each element will be parsed individually, falling back to `dateutil`. To ensure parsing is consistent and as-expected, please specify a format.\n",
      "  return pd.read_csv(path, parse_dates=['Order Date', 'Ship Date'])\n",
      "/Users/varshasharma/Desktop/qa-automated-retail-analysis/src/data_loader.py:16: UserWarning: Could not infer format, so each element will be parsed individually, falling back to `dateutil`. To ensure parsing is consistent and as-expected, please specify a format.\n",
      "  return pd.read_csv(path, parse_dates=['Order Date', 'Ship Date'])\n"
     ]
    }
   ],
   "source": [
    "import pandas as pd\n",
    "from src.data_loader import load_orders\n",
    "from src.validation import validate_order_ids_unique, validate_ship_after_order, validate_no_nulls\n",
    "\n",
    "# Load the cleaned orders\n",
    "df = load_orders()\n",
    "\n",
    "# Run checks\n",
    "order_id_check = validate_order_ids_unique(df)\n",
    "ship_date_check = validate_ship_after_order(df)\n",
    "nulls_df = validate_no_nulls(df)\n",
    "null_check = nulls_df.empty\n",
    "\n",
    "# Count duplicates\n",
    "duplicates_count = df.duplicated(subset='Order ID').sum()\n",
    "\n",
    "\n",
    "\n",
    "# Build the summary\n",
    "qa_summary = pd.DataFrame([\n",
    "    {\n",
    "        \"Rule\": \"Duplicate Order IDs\",\n",
    "        \"Status\": \"Pass\" if duplicates_count == 0 else \"Fail\",\n",
    "        \"Issues\": duplicates_count\n",
    "    },\n",
    "    {\n",
    "        \"Rule\": \"Nulls in Critical Fields\",\n",
    "        \"Status\": \"Pass\" if null_check else \"Fail\",\n",
    "        \"Issues\": 0 if null_check else nulls_df.shape[0]\n",
    "    },\n",
    "    {\n",
    "        \"Rule\": \"Ship Date After Order Date\",\n",
    "        \"Status\": \"Pass\" if ship_date_check else \"Fail\",\n",
    "        \"Issues\": 0 if ship_date_check else (df[\"Ship Date\"] < df[\"Order Date\"]).sum()\n",
    "    }\n",
    "])\n",
    "\n",
    "# Save to CSV for Tableau\n",
    "qa_summary.to_csv(\"tableau/qa_summary.csv\", index=False)\n",
    "\n",
    "print(\"QA Summary saved to tableau/qa_summary.csv\")\n"
   ]
  },
  {
   "cell_type": "code",
   "execution_count": 18,
   "metadata": {},
   "outputs": [
    {
     "name": "stdout",
     "output_type": "stream",
     "text": [
      "Data dictionary saved to governance/data_dictionary.csv\n"
     ]
    }
   ],
   "source": [
    "\n",
    "#adding data dictionary for data governance \n",
    "import pandas as pd\n",
    "import os\n",
    "\n",
    "# Optional: create governance folder if not exists\n",
    "os.makedirs(\"governance\", exist_ok=True)\n",
    "\n",
    "# Load your cleaned data\n",
    "df = pd.read_csv(\"tableau/clean_orders.csv\")\n",
    "\n",
    "# Optional: Map known columns to descriptions\n",
    "#description_map = {\n",
    "    #\"Order ID\": \"Unique identifier for each retail order\",\n",
    "    #\"Order Date\": \"Date when the customer placed the order\",\n",
    "    #\"Ship Date\": \"Date when the order was shipped\",\n",
    "    #\"Customer ID\": \"Unique identifier for each customer\",\n",
    "    #\"Customer Name\": \"Full name of the customer\",\n",
    "    #\"Segment\": \"Customer segment (Consumer, Corporate, etc.)\",\n",
    "   #\"Region\": \"Sales region of the customer\",\n",
    "    #\"Returned\": \"Indicates whether the product was returned\",\n",
    "    #\"Sales\": \"Total revenue for the order\",\n",
    "    #\"Quantity\": \"Number of items ordered\",\n",
    "   # \"Discount\": \"Discount applied to the order\",\n",
    "    #\"Profit\": \"Net profit from the order\",\n",
    "    #\"Product ID\": \"Unique identifier for each product\",\n",
    "    #\"Product Name\": \"Name of the product\",\n",
    "    #\"Category\": \"Top-level product category\",\n",
    "   # \"Sub-Category\": \"More specific product category\",\n",
    "    #\"Ship Mode\": \"Shipping method used for delivery\",\n",
    "    #\"City\": \"City of delivery\",\n",
    "   # \"State\": \"State of delivery\",\n",
    "   # \"Postal Code\": \"Postal/ZIP code of the customer\",\n",
    "    #\"Retail Sales People\": \"Salesperson responsible for the sale\"\n",
    "#}\n",
    "\n",
    "# Auto-detect type and sample value\n",
    "def classify_type(dtype):\n",
    "    if pd.api.types.is_numeric_dtype(dtype):\n",
    "        return \"numeric\"\n",
    "    elif pd.api.types.is_datetime64_any_dtype(dtype):\n",
    "        return \"date\"\n",
    "    elif pd.api.types.is_bool_dtype(dtype):\n",
    "        return \"boolean\"\n",
    "    else:\n",
    "        return \"string\"\n",
    "# Generate data dictionary\n",
    "data_dict = pd.DataFrame({\n",
    "    \"Column Name\": df.columns,\n",
    "    \"Data Type\": [df[col].dtype for col in df.columns],\n",
    "    \"Description\": [\"\" for _ in df.columns],  # Leave blank to fill manually later\n",
    "    \"Example Value\": [df[col].dropna().iloc[0] if not df[col].dropna().empty else \"\" for col in df.columns]\n",
    "})\n",
    "\n",
    "# Save the dictionary\n",
    "data_dict.to_csv(\"governance/data_dictionary.csv\", index=False)\n",
    "\n",
    "print(\"Data dictionary saved to governance/data_dictionary.csv\")\n"
   ]
  },
  {
   "cell_type": "code",
   "execution_count": 20,
   "metadata": {},
   "outputs": [
    {
     "name": "stdout",
     "output_type": "stream",
     "text": [
      "🧾 Steward issue log saved to governance/steward_issues.csv\n"
     ]
    }
   ],
   "source": [
    "#logging steward_issues programmaticaly\n",
    "\n",
    "import pandas as pd\n",
    "import os\n",
    "\n",
    "df = pd.read_csv(\"tableau/clean_orders.csv\")\n",
    "os.makedirs(\"governance\", exist_ok=True)\n",
    "\n",
    "issues = []\n",
    "\n",
    "# Duplicate Order IDs\n",
    "if not df['Order ID'].is_unique:\n",
    "    issues.append({\n",
    "        \"Issue ID\": \"001\",\n",
    "        \"Column\": \"Order ID\",\n",
    "        \"Description\": \"Duplicate Order IDs detected\",\n",
    "        \"Severity\": \"High\",\n",
    "        \"Status\": \"Resolved\",\n",
    "        \"Raised By\": \"QA Automation\"\n",
    "    })\n",
    "\n",
    "# Ship Date before Order Date\n",
    "if (df['Ship Date'] < df['Order Date']).any():\n",
    "    issues.append({\n",
    "        \"Issue ID\": \"002\",\n",
    "        \"Column\": \"Ship Date\",\n",
    "        \"Description\": \"Ship Date occurs before Order Date\",\n",
    "        \"Severity\": \"High\",\n",
    "        \"Status\": \"Resolved\",\n",
    "        \"Raised By\": \"QA Automation\"\n",
    "    })\n",
    "\n",
    "# Sales outliers (e.g., > $10,000)\n",
    "if (df['Sales'] > 10000).any():\n",
    "    issues.append({\n",
    "        \"Issue ID\": \"003\",\n",
    "        \"Column\": \"Sales\",\n",
    "        \"Description\": \"Sales values exceed $10,000 (possible outliers)\",\n",
    "        \"Severity\": \"Medium\",\n",
    "        \"Status\": \"Open\",\n",
    "        \"Raised By\": \"QA Automation\"\n",
    "    })\n",
    "\n",
    "# Missing Return flags\n",
    "if df['Returned'].isnull().any():\n",
    "    issues.append({\n",
    "        \"Issue ID\": \"004\",\n",
    "        \"Column\": \"Returned\",\n",
    "        \"Description\": \"Missing return values in 'Returned' column\",\n",
    "        \"Severity\": \"Low\",\n",
    "        \"Status\": \"Open\",\n",
    "        \"Raised By\": \"QA Automation\"\n",
    "    })\n",
    "\n",
    "# Save\n",
    "issues_df = pd.DataFrame(issues)\n",
    "issues_df.to_csv(\"governance/steward_issues.csv\", index=False)\n",
    "\n",
    "print(\"🧾 Steward issue log saved to governance/steward_issues.csv\")\n"
   ]
  }
 ],
 "metadata": {
  "kernelspec": {
   "display_name": "Python 3",
   "language": "python",
   "name": "python3"
  },
  "language_info": {
   "codemirror_mode": {
    "name": "ipython",
    "version": 3
   },
   "file_extension": ".py",
   "mimetype": "text/x-python",
   "name": "python",
   "nbconvert_exporter": "python",
   "pygments_lexer": "ipython3",
   "version": "3.11.8"
  }
 },
 "nbformat": 4,
 "nbformat_minor": 2
}
